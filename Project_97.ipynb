{
  "nbformat": 4,
  "nbformat_minor": 0,
  "metadata": {
    "colab": {
      "name": "Project 97.ipynb",
      "provenance": [],
      "authorship_tag": "ABX9TyMT2dHZxSMa+U7tg03tmuAC",
      "include_colab_link": true
    },
    "kernelspec": {
      "name": "python3",
      "display_name": "Python 3"
    },
    "language_info": {
      "name": "python"
    }
  },
  "cells": [
    {
      "cell_type": "markdown",
      "metadata": {
        "id": "view-in-github",
        "colab_type": "text"
      },
      "source": [
        "<a href=\"https://colab.research.google.com/github/Nunziatellanicolepalarymzai/Project-97/blob/main/Project_97.ipynb\" target=\"_parent\"><img src=\"https://colab.research.google.com/assets/colab-badge.svg\" alt=\"Open In Colab\"/></a>"
      ]
    },
    {
      "cell_type": "code",
      "metadata": {
        "colab": {
          "base_uri": "https://localhost:8080/"
        },
        "id": "VDb5yGoQQRAe",
        "outputId": "0799ab66-eae5-45de-a937-e80ed02e948d"
      },
      "source": [
        "import random \n",
        "number=random.randint(1,9)\n",
        "print(\"random number is \",number)\n",
        "chances=0\n",
        "print(\"Number Guessing Game\")\n",
        "print(\"Guess the number(between 1 and 9: \")\n",
        "while chances<5:\n",
        "  guess=int(input(\"enter your guess:-\"))\n",
        "  if guess==number:\n",
        "    print(\"Congratulation your guess is correct\")\n",
        "    break\n",
        "  elif guess<number:\n",
        "    print(\"your guess is too low.guess a number higher than \",guess)\n",
        "  else:\n",
        "    print(\"your guess to too high,guess a number lower than \",guess)\n",
        "  chances+=1\n",
        "if not chances<5:\n",
        "  print(\"you lose as your 5 chances are over!!the number is \",number)\n",
        "\n",
        " \n",
        "\n",
        "\n",
        "\n",
        "\n",
        "\n"
      ],
      "execution_count": null,
      "outputs": [
        {
          "output_type": "stream",
          "name": "stdout",
          "text": [
            "random number is  3\n",
            "Number Guessing Game\n",
            "Guess the number(between 1 and 9: \n",
            "enter your guess:-4\n",
            "your guess to too high,guess a number lower than  4\n",
            "enter your guess:-1\n",
            "your guess is too low.guess a number higher than  1\n",
            "enter your guess:-3\n",
            "Congratulation your guess is correct\n"
          ]
        }
      ]
    }
  ]
}